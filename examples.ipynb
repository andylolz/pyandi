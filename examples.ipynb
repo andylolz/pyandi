{
 "cells": [
  {
   "cell_type": "code",
   "execution_count": 2,
   "metadata": {},
   "outputs": [],
   "source": [
    "import pyandi"
   ]
  },
  {
   "cell_type": "code",
   "execution_count": 3,
   "metadata": {},
   "outputs": [],
   "source": [
    "usaid = pyandi.PublisherSet().find(name='usaid')"
   ]
  },
  {
   "cell_type": "code",
   "execution_count": 4,
   "metadata": {},
   "outputs": [
    {
     "name": "stdout",
     "output_type": "stream",
     "text": [
      "USAID have 177 datasets.\n"
     ]
    }
   ],
   "source": [
    "print('USAID have {:,} datasets.'.format(len(usaid.datasets)))"
   ]
  },
  {
   "cell_type": "code",
   "execution_count": 5,
   "metadata": {},
   "outputs": [
    {
     "name": "stdout",
     "output_type": "stream",
     "text": [
      "USAID had 832 agricultural activities running during 2017.\n"
     ]
    }
   ],
   "source": [
    "ag_acts = usaid.activities.where(\n",
    "    actual_start__lte='2017-12-31',\n",
    "    actual_end__gte='2017-01-01',\n",
    "    transaction_sector__startswith='311',  # Agriculture\n",
    ")\n",
    "print('USAID had {:,} agricultural activities running during 2017.'.format(\n",
    "    len(ag_acts)))"
   ]
  },
  {
   "cell_type": "code",
   "execution_count": 6,
   "metadata": {},
   "outputs": [],
   "source": [
    "mcc = pyandi.PublisherSet().find(name='millenniumchallenge')"
   ]
  },
  {
   "cell_type": "code",
   "execution_count": 7,
   "metadata": {},
   "outputs": [
    {
     "name": "stdout",
     "output_type": "stream",
     "text": [
      "279 of 3,038 MCC activities have location data.\n"
     ]
    }
   ],
   "source": [
    "total_with_locations = len(mcc.activities.where(location__exists=True))\n",
    "total_activities = len(mcc.activities)\n",
    "print('{:,} of {:,} MCC activities have location data.'.format(\n",
    "    total_with_locations, total_activities))"
   ]
  },
  {
   "cell_type": "code",
   "execution_count": null,
   "metadata": {},
   "outputs": [],
   "source": []
  }
 ],
 "metadata": {
  "kernelspec": {
   "display_name": "Python 3",
   "language": "python",
   "name": "python3"
  },
  "language_info": {
   "codemirror_mode": {
    "name": "ipython",
    "version": 3
   },
   "file_extension": ".py",
   "mimetype": "text/x-python",
   "name": "python",
   "nbconvert_exporter": "python",
   "pygments_lexer": "ipython3",
   "version": "3.6.0"
  }
 },
 "nbformat": 4,
 "nbformat_minor": 2
}

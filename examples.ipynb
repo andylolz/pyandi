{
 "cells": [
  {
   "cell_type": "markdown",
   "metadata": {},
   "source": [
    "# pyandi examples"
   ]
  },
  {
   "cell_type": "markdown",
   "metadata": {},
   "source": [
    "You can do some cool things with pyandi. Here are a few examples.\n",
    "\n",
    "## Count datasets and publishers on the registry"
   ]
  },
  {
   "cell_type": "code",
   "execution_count": 1,
   "metadata": {},
   "outputs": [],
   "source": [
    "import pyandi"
   ]
  },
  {
   "cell_type": "code",
   "execution_count": 2,
   "metadata": {},
   "outputs": [
    {
     "name": "stdout",
     "output_type": "stream",
     "text": [
      "There are 855 publishers and 6,682 datasets on the registry\n"
     ]
    }
   ],
   "source": [
    "total_publishers = len(pyandi.PublisherSet())\n",
    "total_datasets = sum([len(pub.datasets)\n",
    "                      for pub in pyandi.PublisherSet()])\n",
    "print('There are {:,} publishers and {:,} datasets on the registry'.format(\n",
    "    total_publishers, total_datasets))"
   ]
  },
  {
   "cell_type": "markdown",
   "metadata": {},
   "source": [
    "## Count datasets for a publisher"
   ]
  },
  {
   "cell_type": "code",
   "execution_count": 3,
   "metadata": {},
   "outputs": [
    {
     "name": "stdout",
     "output_type": "stream",
     "text": [
      "USAID have 177 datasets.\n"
     ]
    }
   ],
   "source": [
    "usaid = pyandi.PublisherSet().find(name='usaid')\n",
    "print('USAID have {:,} datasets.'.format(len(usaid.datasets)))"
   ]
  },
  {
   "cell_type": "markdown",
   "metadata": {},
   "source": [
    "## Find an activity by its identifier"
   ]
  },
  {
   "cell_type": "code",
   "execution_count": 4,
   "metadata": {},
   "outputs": [
    {
     "name": "stdout",
     "output_type": "stream",
     "text": [
      "Developing methods for measuring the deforestation avoided as a result of International Climate Fund projects (GB-1-201724-151)\n"
     ]
    }
   ],
   "source": [
    "iati_identifier = 'GB-1-201724-151'\n",
    "\n",
    "dfid = pyandi.PublisherSet().find(name='dfid')\n",
    "act = dfid.activities.where(\n",
    "    iati_identifier=iati_identifier\n",
    ").first()\n",
    "print(act)"
   ]
  },
  {
   "cell_type": "markdown",
   "metadata": {},
   "source": [
    "## Find activities that include an element"
   ]
  },
  {
   "cell_type": "code",
   "execution_count": 5,
   "metadata": {},
   "outputs": [
    {
     "name": "stdout",
     "output_type": "stream",
     "text": [
      "279 of 3,038 MCC activities have location data.\n"
     ]
    }
   ],
   "source": [
    "mcc = pyandi.PublisherSet().find(name='millenniumchallenge')\n",
    "total_with_locations = len(mcc.activities.where(location__exists=True))\n",
    "total_activities = len(mcc.activities)\n",
    "print('{:,} of {:,} MCC activities have location data.'.format(\n",
    "    total_with_locations, total_activities))"
   ]
  },
  {
   "cell_type": "markdown",
   "metadata": {},
   "source": [
    "## More complicated activity filters"
   ]
  },
  {
   "cell_type": "code",
   "execution_count": 6,
   "metadata": {},
   "outputs": [
    {
     "name": "stdout",
     "output_type": "stream",
     "text": [
      "DFID had 176 agricultural activities running during 2017.\n"
     ]
    }
   ],
   "source": [
    "ag_acts = dfid.activities.where(\n",
    "    actual_start__lte='2017-12-31',\n",
    "    actual_end__gte='2017-01-01',\n",
    "    sector__startswith='311',  # Agriculture\n",
    ")\n",
    "print('DFID had {:,} agricultural activities running during 2017.'.format(\n",
    "    len(ag_acts)))"
   ]
  },
  {
   "cell_type": "code",
   "execution_count": null,
   "metadata": {},
   "outputs": [],
   "source": []
  }
 ],
 "metadata": {
  "kernelspec": {
   "display_name": "Python 3",
   "language": "python",
   "name": "python3"
  },
  "language_info": {
   "codemirror_mode": {
    "name": "ipython",
    "version": 3
   },
   "file_extension": ".py",
   "mimetype": "text/x-python",
   "name": "python",
   "nbconvert_exporter": "python",
   "pygments_lexer": "ipython3",
   "version": "3.6.0"
  }
 },
 "nbformat": 4,
 "nbformat_minor": 2
}
